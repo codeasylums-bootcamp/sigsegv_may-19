{
 "cells": [
  {
   "cell_type": "code",
   "execution_count": 11,
   "metadata": {},
   "outputs": [],
   "source": [
    "import requests\n",
    "import csv\n",
    "from bs4 import BeautifulSoup"
   ]
  },
  {
   "cell_type": "code",
   "execution_count": 30,
   "metadata": {},
   "outputs": [],
   "source": [
    "url='http://results.eci.gov.in/pc/en/constituencywise/ConstituencywiseU011.htm'"
   ]
  },
  {
   "cell_type": "code",
   "execution_count": 31,
   "metadata": {},
   "outputs": [],
   "source": [
    "headers = {'User-Agent':'Mozilla/5.0'}\n"
   ]
  },
  {
   "cell_type": "code",
   "execution_count": 32,
   "metadata": {},
   "outputs": [],
   "source": [
    "response = requests.get(url, headers=headers)"
   ]
  },
  {
   "cell_type": "code",
   "execution_count": 33,
   "metadata": {},
   "outputs": [],
   "source": [
    "soup = BeautifulSoup(response.content,'html.parser')"
   ]
  },
  {
   "cell_type": "code",
   "execution_count": 34,
   "metadata": {},
   "outputs": [],
   "source": [
    "stat_table = soup.find_all('table',class_='table-party')"
   ]
  },
  {
   "cell_type": "code",
   "execution_count": 35,
   "metadata": {},
   "outputs": [
    {
     "data": {
      "text/plain": [
       "1"
      ]
     },
     "execution_count": 35,
     "metadata": {},
     "output_type": "execute_result"
    }
   ],
   "source": [
    "len(stat_table)"
   ]
  },
  {
   "cell_type": "code",
   "execution_count": 36,
   "metadata": {},
   "outputs": [],
   "source": [
    "stat_table = stat_table[0]"
   ]
  },
  {
   "cell_type": "code",
   "execution_count": 37,
   "metadata": {},
   "outputs": [
    {
     "name": "stdout",
     "output_type": "stream",
     "text": [
      "{'1': {'name': 'AYAN MANDAL', 'party': 'All India Trinamool Congress', 'total_votes': '1721', 'percentage': '0.83'}, '2': {'name': 'KULDEEP RAI SHARMA', 'party': 'Indian National Congress', 'total_votes': '95308', 'percentage': '45.98'}, '3': {'name': 'PRAKASH MINJ', 'party': 'Bahujan Samaj Party', 'total_votes': '2486', 'percentage': '1.2'}, '4': {'name': 'VISHAL JOLLY', 'party': 'Bharatiya Janata Party', 'total_votes': '93901', 'percentage': '45.3'}, '5': {'name': 'SANJAY MESHACK', 'party': 'Aam Aadmi Party', 'total_votes': '2839', 'percentage': '1.37'}, '6': {'name': 'C G SAJI KUMAR', 'party': 'All India Hindustan Congress Party', 'total_votes': '212', 'percentage': '0.1'}, '7': {'name': 'K KALIMUTHU', 'party': 'Independent', 'total_votes': '275', 'percentage': '0.13'}, '8': {'name': 'V V KHALID', 'party': 'Independent', 'total_votes': '306', 'percentage': '0.15'}, '9': {'name': 'GOUR CHANDRA MAJUMDER', 'party': 'Independent', 'total_votes': '221', 'percentage': '0.11'}, '10': {'name': 'PARITOSH KUMAR HALDAR', 'party': 'Independent', 'total_votes': '5341', 'percentage': '2.58'}, '11': {'name': 'MINATI BISWAS', 'party': 'Independent', 'total_votes': '618', 'percentage': '0.3'}, '12': {'name': 'C U RASHEED', 'party': 'Independent', 'total_votes': '273', 'percentage': '0.13'}, '13': {'name': 'K VENKAT RAM BABU', 'party': 'Independent', 'total_votes': '914', 'percentage': '0.44'}, '14': {'name': 'S SUDERSHAN RAO', 'party': 'Independent', 'total_votes': '475', 'percentage': '0.23'}, '15': {'name': 'HENRY', 'party': 'Independent', 'total_votes': '994', 'percentage': '0.48'}, '16': {'name': 'NOTA', 'party': 'None of the Above', 'total_votes': '1412', 'percentage': '0.68'}}\n"
     ]
    }
   ],
   "source": [
    "lis=[]\n",
    "for row in stat_table.find_all('tr'):\n",
    "    s=\"\"\n",
    "    for cell in row.find_all('td'):\n",
    "        s=s+cell.text+\",\"\n",
    "    l=s.split(\",\")\n",
    "    lis.append(l)\n",
    "#print(lis[3:len(lis)-1])\n",
    "dic={}\n",
    "for i in lis[3:len(lis)-1]:\n",
    "    dic[i[0]]={\"name\":i[1],\"party\":i[2],\"total_votes\":i[5],\"percentage\":i[6]}\n",
    "print(dic)"
   ]
  },
  {
   "cell_type": "code",
   "execution_count": 68,
   "metadata": {},
   "outputs": [],
   "source": [
    "with open('KANPUR.csv','w')as r:\n",
    "    writer = csv.writer(r)\n",
    "    writer.writerows(lis)\n",
    "    '''    for row in stat_table.find_all('tr'):\n",
    "        for cell in row.find_all('td'):\n",
    "            r.write(cell.text.ljust(25))\n",
    "        r.write('\\n')    '''\n"
   ]
  },
  {
   "cell_type": "code",
   "execution_count": 88,
   "metadata": {},
   "outputs": [
    {
     "name": "stdout",
     "output_type": "stream",
     "text": [
      "<table 4'=\"\" align=\"center\" border=\"1&gt;\n",
      "                                        &lt;tbody&gt;&lt;tr&gt;\n",
      "                                            &lt;th colspan=\" cellpadding=\"5\" cellspacing=\"0\" class=\"table-party\" style=\"font-size:18px; font-weight: bold;\">\n",
      "                                               Partywise Trends &amp; Result\n",
      "                                            </table>\n"
     ]
    }
   ],
   "source": [
    "print(stat_table)"
   ]
  },
  {
   "cell_type": "code",
   "execution_count": null,
   "metadata": {},
   "outputs": [],
   "source": []
  }
 ],
 "metadata": {
  "kernelspec": {
   "display_name": "Python 3",
   "language": "python",
   "name": "python3"
  },
  "language_info": {
   "codemirror_mode": {
    "name": "ipython",
    "version": 3
   },
   "file_extension": ".py",
   "mimetype": "text/x-python",
   "name": "python",
   "nbconvert_exporter": "python",
   "pygments_lexer": "ipython3",
   "version": "3.6.8"
  }
 },
 "nbformat": 4,
 "nbformat_minor": 2
}
